{
  "nbformat": 4,
  "nbformat_minor": 0,
  "metadata": {
    "colab": {
      "name": "Copy of LS_DS_211_solution.ipynb",
      "provenance": [],
      "collapsed_sections": [],
      "include_colab_link": true
    },
    "kernelspec": {
      "display_name": "Python 3",
      "language": "python",
      "name": "python3"
    },
    "language_info": {
      "codemirror_mode": {
        "name": "ipython",
        "version": 3
      },
      "file_extension": ".py",
      "mimetype": "text/x-python",
      "name": "python",
      "nbconvert_exporter": "python",
      "pygments_lexer": "ipython3",
      "version": "3.8.5"
    }
  },
  "cells": [
    {
      "cell_type": "markdown",
      "metadata": {
        "id": "view-in-github",
        "colab_type": "text"
      },
      "source": [
        "<a href=\"https://colab.research.google.com/github/tbbcoach/DS-Unit-2-Linear-Models/blob/master/Copy_of_LS_DS_211_solution.ipynb\" target=\"_parent\"><img src=\"https://colab.research.google.com/assets/colab-badge.svg\" alt=\"Open In Colab\"/></a>"
      ]
    },
    {
      "cell_type": "markdown",
      "metadata": {
        "id": "eBk_xpTLjazD"
      },
      "source": [
        "Lambda School Data Science\n",
        "\n",
        "*Unit 2, Sprint 1, Module 1*\n",
        "\n",
        "---"
      ]
    },
    {
      "cell_type": "code",
      "metadata": {
        "id": "lrzTOWPkjazL"
      },
      "source": [
        "%%capture\n",
        "import sys\n",
        "\n",
        "# If you're on Colab:\n",
        "if 'google.colab' in sys.modules:\n",
        "    DATA_PATH = 'https://raw.githubusercontent.com/LambdaSchool/DS-Unit-2-Applied-Modeling/master/data/'\n",
        "\n",
        "# If you're working locally:\n",
        "else:\n",
        "    DATA_PATH = '../data/'"
      ],
      "execution_count": 1,
      "outputs": []
    },
    {
      "cell_type": "markdown",
      "metadata": {
        "id": "TUL-R7_IjazL"
      },
      "source": [
        "# Module Project: Regression I\n",
        "\n",
        "During the guided project, we predicted how much it would cost to buy a condo in Tribecca. For the module project, your goal will be similar: predict how much it costs to rent an apartment in New York City.\n",
        "\n",
        "Dataset source: [renthop.com](https://www.renthop.com/).\n",
        "\n",
        "## Directions\n",
        "\n",
        "> Do Not Copy-Paste. You must *type* each of these exercises in, manually. If you copy and paste, you might as well not even do them. The point of these exercises is to train your hands, your brain, and your mind in how to read, write, and see code. If you copy-paste, you are cheating yourself out of the effectiveness of the lessons.\n",
        ">\n",
        "> — Zed Shaw, [Learn Python the Hard Way](https://learnpythonthehardway.org/)\n",
        "\n",
        "The tasks for this project are as follows:\n",
        "\n",
        "- **Task 1:** Import `csv` file using wrangle function.\n",
        "- **Task 2:** Conduct exploratory data analysis (EDA) and plot the relationship between one feature and the target `'price'`.\n",
        "- **Task 3:** Split data into feature matrix `X` and target vector `y`.\n",
        "- **Task 4:** Establish the baseline mean absolute error for your dataset.\n",
        "- **Task 5:** Build and train a `Linearregression` model.\n",
        "- **Task 6:** Check the mean absolute error of our model on the training data.\n",
        "- **Task 7:** Extract and print the intercept and coefficient from your `LinearRegression` model.\n",
        "\n",
        "**Note**\n",
        "\n",
        "You should limit yourself to the following libraries for this project:\n",
        "\n",
        "- `matplotlib`\n",
        "- `numpy`\n",
        "- `pandas`\n",
        "- `sklearn`"
      ]
    },
    {
      "cell_type": "markdown",
      "metadata": {
        "id": "8jz1PRQnjazM"
      },
      "source": [
        "## I. Wrangle Data"
      ]
    },
    {
      "cell_type": "code",
      "metadata": {
        "id": "g8QN-cbcjazM"
      },
      "source": [
        "def wrangle(filepath):\n",
        "    df = pd.read_csv(filepath)\n",
        "    \n",
        "    # Remove the most extreme 1% prices,\n",
        "    # the most extreme .1% latitudes, &\n",
        "    # the most extreme .1% longitudes\n",
        "    df = df[(df['price'] >= np.percentile(df['price'], 0.5)) & \n",
        "            (df['price'] <= np.percentile(df['price'], 99.5)) & \n",
        "            (df['latitude'] >= np.percentile(df['latitude'], 0.05)) & \n",
        "            (df['latitude'] < np.percentile(df['latitude'], 99.95)) &\n",
        "            (df['longitude'] >= np.percentile(df['longitude'], 0.05)) & \n",
        "            (df['longitude'] <= np.percentile(df['longitude'], 99.95))]\n",
        "    \n",
        "    return df\n",
        "\n",
        "filepath = DATA_PATH + 'apartments/renthop-nyc.csv'"
      ],
      "execution_count": 2,
      "outputs": []
    },
    {
      "cell_type": "markdown",
      "metadata": {
        "id": "G3e8uMQUjazN"
      },
      "source": [
        "**Task 1:** Use the above `wrangle` function to import the `renthop-nyc.csv` file into a DataFrame named `df`."
      ]
    },
    {
      "cell_type": "code",
      "metadata": {
        "id": "n5cObm3yjazN"
      },
      "source": [
        "import pandas as pd\n",
        "import numpy as np\n",
        "import matplotlib.pyplot as plt\n",
        "import seaborn as sns\n",
        "\n",
        "df = wrangle(filepath)"
      ],
      "execution_count": 3,
      "outputs": []
    },
    {
      "cell_type": "markdown",
      "metadata": {
        "id": "lB6yINLojazN"
      },
      "source": [
        "**Task 2:** Use your `pandas` and dataviz skills to explore the dataset. As part of this process, make a scatter plot that shows the relationship between one of the numerical features in the dataset and the target `'price'`.\n",
        "\n",
        "**Remember:** You should plot your feature on the `X` axis and your target on the `y` axis."
      ]
    },
    {
      "cell_type": "code",
      "metadata": {
        "id": "5XTL2iN_jazO",
        "colab": {
          "base_uri": "https://localhost:8080/",
          "height": 297
        },
        "outputId": "bd508be0-a6ff-427e-b268-86ec58ee8de1"
      },
      "source": [
        "print(df.shape)\n",
        "\n",
        "\n",
        "df.head()\n",
        "sns.regplot(x='bedrooms', y='price', data=df);"
      ],
      "execution_count": 4,
      "outputs": [
        {
          "output_type": "stream",
          "text": [
            "(48817, 34)\n"
          ],
          "name": "stdout"
        },
        {
          "output_type": "display_data",
          "data": {
            "image/png": "[encoded data removed]",
            "text/plain": [
              "<Figure size 432x288 with 1 Axes>"
            ]
          },
          "metadata": {
            "tags": [],
            "needs_background": "light"
          }
        }
      ]
    },
    {
      "cell_type": "markdown",
      "metadata": {
        "id": "2F8noqtFjazO"
      },
      "source": [
        "#  II. Split Data\n",
        "\n",
        "**Task 3:** Choose one feature from the dataset and assign it to your feature matrix `X`. Then assign the column `'price'` to the target vector `y`.\n",
        "\n",
        "**Remember:** Your feature matrix needs to be two-dimensional, but your feature matrix must be one-dimensional."
      ]
    },
    {
      "cell_type": "code",
      "metadata": {
        "id": "qZRkoNTZjazO",
        "colab": {
          "base_uri": "https://localhost:8080/"
        },
        "outputId": "8a43f25c-0235-484c-cf7e-c4ea82da5b03"
      },
      "source": [
        "\n",
        "\n",
        "X_train = df[['bedrooms']]\n",
        "y_train = df['price']\n",
        "\n",
        "y_train.shape"
      ],
      "execution_count": 5,
      "outputs": [
        {
          "output_type": "execute_result",
          "data": {
            "text/plain": [
              "(48817,)"
            ]
          },
          "metadata": {
            "tags": []
          },
          "execution_count": 5
        }
      ]
    },
    {
      "cell_type": "markdown",
      "metadata": {
        "id": "NLKqx12bjazO"
      },
      "source": [
        "# III. Establish Baseline\n",
        "\n",
        "**Task 4:** Since this is a **regression** problem, you need to calculate the baseline the mean absolute error for your model. First, calculate the mean of `y`. Next, create a list `y_pred` that has the same length as `y` and where every item in the list is the mean. Finally, use `mean_absolute_error` to calculate your baseline."
      ]
    },
    {
      "cell_type": "code",
      "metadata": {
        "id": "E0nnJeR5jazP",
        "colab": {
          "base_uri": "https://localhost:8080/"
        },
        "outputId": "793d1155-eeeb-41cd-978a-cf35b97b1340"
      },
      "source": [
        "from sklearn.metrics import mean_absolute_error\n",
        "\n",
        "print(y_train.mean())\n",
        "y_pred = [y_train.mean()]* len(y_train)\n",
        "print(y_pred[:5])\n",
        "\n",
        "baseline_mae = mean_absolute_error(y_train, y_pred)\n",
        "print('Baseline MAE:', baseline_mae)"
      ],
      "execution_count": 6,
      "outputs": [
        {
          "output_type": "stream",
          "text": [
            "3579.5852469426636\n",
            "[3579.5852469426636, 3579.5852469426636, 3579.5852469426636, 3579.5852469426636, 3579.5852469426636]\n",
            "Baseline MAE: 1201.532252154329\n"
          ],
          "name": "stdout"
        }
      ]
    },
    {
      "cell_type": "markdown",
      "metadata": {
        "id": "uBSZmdFijazP"
      },
      "source": [
        "# IV. Build Model\n",
        "\n",
        "**Task 5:** Build and train a `LinearRegression` model named `model` using your feature matrix `X` and your target vector `y`."
      ]
    },
    {
      "cell_type": "code",
      "metadata": {
        "id": "rcqYWFVhjazP",
        "colab": {
          "base_uri": "https://localhost:8080/"
        },
        "outputId": "9378deab-e929-49f9-b197-6ad2b11155d1"
      },
      "source": [
        "# Step 1: Import predictor class\n",
        "from sklearn.linear_model import LinearRegression\n",
        "\n",
        "#X_train_2D = X_train[:, np.newaxis]\n",
        "\n",
        "# Step 2: Instantiate predictor\n",
        "model = LinearRegression()\n",
        "\n",
        "# Step 3: Fit predictor on the (training) data\n",
        "\n",
        "model.fit(X_train, y_train)\n"
      ],
      "execution_count": 7,
      "outputs": [
        {
          "output_type": "execute_result",
          "data": {
            "text/plain": [
              "LinearRegression(copy_X=True, fit_intercept=True, n_jobs=None, normalize=False)"
            ]
          },
          "metadata": {
            "tags": []
          },
          "execution_count": 7
        }
      ]
    },
    {
      "cell_type": "markdown",
      "metadata": {
        "id": "6cvF11TFjazP"
      },
      "source": [
        "# V. Check Metrics\n",
        "\n",
        "**Task 6:** How does your model perform in comparison to your baseline? Calculate the mean absolute error for your model's predictions."
      ]
    },
    {
      "cell_type": "code",
      "metadata": {
        "id": "lW8t4iEojazQ",
        "colab": {
          "base_uri": "https://localhost:8080/"
        },
        "outputId": "7cd07efc-829c-4759-fb8a-021db98eaf35"
      },
      "source": [
        "\n",
        "\n",
        "training_mae = mean_absolute_error(y_train, model.predict(X_train))\n",
        "\n",
        "print('Training MAE:', training_mae)"
      ],
      "execution_count": 8,
      "outputs": [
        {
          "output_type": "stream",
          "text": [
            "Training MAE: 975.6496767374764\n"
          ],
          "name": "stdout"
        }
      ]
    },
    {
      "cell_type": "markdown",
      "metadata": {
        "id": "AGhj6tVTjazQ"
      },
      "source": [
        "# VI. Communicate Results \n",
        "\n",
        "You've just created a linear model. That means that your model makes predictions using an equation that looks like $\\texttt{apt price} = \\texttt{intercept}~+~\\texttt{coefficient}~\\times~\\texttt{your feature}$. But what are the values of the intercept and coefficient that your model is using? \n",
        "\n",
        "**Task 7:** Print out the intercept and coefficient associated with `model`."
      ]
    },
    {
      "cell_type": "code",
      "metadata": {
        "id": "ZTZ12LTfjazQ",
        "colab": {
          "base_uri": "https://localhost:8080/"
        },
        "outputId": "5971a455-a0d8-4818-ba05-3f8f4a6bf214"
      },
      "source": [
        "print(round(model.coef_[0], 2))\n",
        "round(model.intercept_, 2)"
      ],
      "execution_count": 9,
      "outputs": [
        {
          "output_type": "stream",
          "text": [
            "853.27\n"
          ],
          "name": "stdout"
        },
        {
          "output_type": "execute_result",
          "data": {
            "text/plain": [
              "2267.99"
            ]
          },
          "metadata": {
            "tags": []
          },
          "execution_count": 9
        }
      ]
    }
  ]
}